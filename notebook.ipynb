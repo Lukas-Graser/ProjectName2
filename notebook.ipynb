import pandas as pd

:qc
:q

